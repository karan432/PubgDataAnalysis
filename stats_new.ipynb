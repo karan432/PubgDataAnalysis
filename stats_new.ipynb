{
 "cells": [
  {
   "cell_type": "code",
   "execution_count": 35,
   "metadata": {},
   "outputs": [],
   "source": [
    "from pyspark.sql import SparkSession, SQLContext\n",
    "from pyspark.sql.functions import countDistinct, count, avg, udf, lit, col, mean, array, log\n",
    "# from pyspark.sql.functions import count, avg\n",
    "# from pyspark.sql.functions import udf, lit\n",
    "from pyspark.sql.types import *\n",
    "import math\n",
    "from scipy.ndimage.filters import gaussian_filter\n",
    "import matplotlib.cm as cm\n",
    "from matplotlib.colors import Normalize\n",
    "import numpy as np\n",
    "import matplotlib.pyplot as plt\n",
    "import pandas as pd\n",
    "# import seaborn as sns\n",
    "%matplotlib inline\n",
    "\n",
    "from scipy.misc.pilutil import imread"
   ]
  },
  {
   "cell_type": "code",
   "execution_count": 18,
   "metadata": {},
   "outputs": [],
   "source": [
    "spark = SparkSession.builder\\\n",
    "    .appName(\"pubg\")\\\n",
    "    .getOrCreate()"
   ]
  },
  {
   "cell_type": "code",
   "execution_count": 19,
   "metadata": {},
   "outputs": [],
   "source": [
    "directory = \"/user/krk386/pubg/deaths/deaths/\"\n",
    "files = [\"kill_match_stats_final_0.csv\",\n",
    "         \"kill_match_stats_final_1.csv\"]\n",
    "deaths = None\n",
    "for file in files:\n",
    "    TempDeaths = spark.read.csv(directory+file,header='true')\n",
    "    if deaths:\n",
    "        deaths = deaths.union(TempDeaths)\n",
    "    else:\n",
    "        deaths = TempDeaths        "
   ]
  },
  {
   "cell_type": "code",
   "execution_count": 20,
   "metadata": {},
   "outputs": [
    {
     "name": "stdout",
     "output_type": "stream",
     "text": [
      "root\n",
      " |-- killed_by: string (nullable = true)\n",
      " |-- killer_name: string (nullable = true)\n",
      " |-- killer_placement: string (nullable = true)\n",
      " |-- killer_position_x: string (nullable = true)\n",
      " |-- killer_position_y: string (nullable = true)\n",
      " |-- map: string (nullable = true)\n",
      " |-- match_id: string (nullable = true)\n",
      " |-- time: string (nullable = true)\n",
      " |-- victim_name: string (nullable = true)\n",
      " |-- victim_placement: string (nullable = true)\n",
      " |-- victim_position_x: string (nullable = true)\n",
      " |-- victim_position_y: string (nullable = true)\n",
      "\n"
     ]
    }
   ],
   "source": [
    "deaths.printSchema()"
   ]
  },
  {
   "cell_type": "code",
   "execution_count": 25,
   "metadata": {},
   "outputs": [],
   "source": [
    "agg_directory = \"pubg/aggregate/\"\n",
    "agg_files = [\"agg_match_stats_0.csv\",\n",
    "         \"agg_match_stats_1.csv\"]\n",
    "aggregate = None\n",
    "for file in agg_files:\n",
    "    tempAgg = spark.read.csv(agg_directory+file,header='true')\n",
    "    if aggregate:\n",
    "        aggregate = aggregate.union(tempAgg)\n",
    "    else:\n",
    "        aggregate = tempAgg"
   ]
  },
  {
   "cell_type": "code",
   "execution_count": 26,
   "metadata": {},
   "outputs": [
    {
     "name": "stdout",
     "output_type": "stream",
     "text": [
      "root\n",
      " |-- date: string (nullable = true)\n",
      " |-- game_size: string (nullable = true)\n",
      " |-- match_id: string (nullable = true)\n",
      " |-- match_mode: string (nullable = true)\n",
      " |-- party_size: string (nullable = true)\n",
      " |-- player_assists: string (nullable = true)\n",
      " |-- player_dbno: string (nullable = true)\n",
      " |-- player_dist_ride: string (nullable = true)\n",
      " |-- player_dist_walk: string (nullable = true)\n",
      " |-- player_dmg: string (nullable = true)\n",
      " |-- player_kills: string (nullable = true)\n",
      " |-- player_name: string (nullable = true)\n",
      " |-- player_survive_time: string (nullable = true)\n",
      " |-- team_id: string (nullable = true)\n",
      " |-- team_placement: string (nullable = true)\n",
      "\n"
     ]
    }
   ],
   "source": [
    "aggregate.printSchema()"
   ]
  },
  {
   "cell_type": "code",
   "execution_count": 21,
   "metadata": {},
   "outputs": [
    {
     "name": "stdout",
     "output_type": "stream",
     "text": [
      "root\n",
      " |-- killed_by: string (nullable = true)\n",
      " |-- killer_name: string (nullable = true)\n",
      " |-- killer_placement: string (nullable = true)\n",
      " |-- killer_position_x: float (nullable = true)\n",
      " |-- killer_position_y: float (nullable = true)\n",
      " |-- map: string (nullable = true)\n",
      " |-- match_id: string (nullable = true)\n",
      " |-- time: string (nullable = true)\n",
      " |-- victim_name: string (nullable = true)\n",
      " |-- victim_placement: string (nullable = true)\n",
      " |-- victim_position_x: float (nullable = true)\n",
      " |-- victim_position_y: float (nullable = true)\n",
      "\n"
     ]
    }
   ],
   "source": [
    "deaths_df = deaths.withColumn(\"victim_position_x\", deaths[\"victim_position_x\"].cast(FloatType()))\n",
    "deaths_df = deaths_df.withColumn(\"victim_position_y\", deaths_df[\"victim_position_y\"].cast(FloatType()))\n",
    "deaths_df = deaths_df.withColumn(\"killer_position_x\", deaths_df[\"killer_position_x\"].cast(FloatType()))\n",
    "deaths_df = deaths_df.withColumn(\"killer_position_y\", deaths_df[\"killer_position_y\"].cast(FloatType()))\n",
    "deaths_df.printSchema()"
   ]
  },
  {
   "cell_type": "code",
   "execution_count": 27,
   "metadata": {},
   "outputs": [
    {
     "name": "stdout",
     "output_type": "stream",
     "text": [
      "299984\n"
     ]
    }
   ],
   "source": [
    "# aggregate4_df = aggregate.filter(aggregate.party_size == \"4\")\n",
    "aggregate4_df = aggregate.select(\"match_id\")\n",
    "size4_matches = aggregate4_df.groupBy(\"match_id\").count()\n",
    "size4_ids = size4_matches.select(\"match_id\").collect()\n",
    "size4_ids = [str(Id.match_id) for Id in size4_ids]\n",
    "print(len(size4_ids))"
   ]
  },
  {
   "cell_type": "code",
   "execution_count": 28,
   "metadata": {},
   "outputs": [
    {
     "data": {
      "text/plain": [
       "299984"
      ]
     },
     "execution_count": 28,
     "metadata": {},
     "output_type": "execute_result"
    }
   ],
   "source": [
    "size4_matches_total = len(size4_ids)\n",
    "size4_matches_total"
   ]
  },
  {
   "cell_type": "code",
   "execution_count": 29,
   "metadata": {},
   "outputs": [],
   "source": [
    "def getAverage(total, count):\n",
    "    return total/count\n",
    "\n",
    "getAverage_UDF = udf(getAverage, DoubleType()) # StringType())"
   ]
  },
  {
   "cell_type": "code",
   "execution_count": 30,
   "metadata": {},
   "outputs": [],
   "source": [
    "# deaths_size4 = deaths_df.filter(deaths_df.match_id.isin(size4_ids))\n",
    "deaths_size4 = deaths_df.select(\"killed_by\")\n",
    "deaths4_by_cause = deaths_size4.groupBy(\"killed_by\").count() # deaths_size4.groupBy(match_id,killed_by).count()"
   ]
  },
  {
   "cell_type": "code",
   "execution_count": 31,
   "metadata": {},
   "outputs": [],
   "source": [
    "deaths4_by_cause_average = deaths4_by_cause.withColumn('average', getAverage_UDF(deaths4_by_cause[\"count\"],lit(size4_matches_total)))\n",
    "# deaths4_by_cause_average = deaths4_by_cause_average.sort(col(\"average\").desc())"
   ]
  },
  {
   "cell_type": "code",
   "execution_count": 34,
   "metadata": {},
   "outputs": [],
   "source": [
    "deaths4_by_cause_average.write.csv(\"/user/krk386/pubg/avg_death_cause\", header=False)\n",
    "# deaths4_by_cause_average.show()"
   ]
  },
  {
   "cell_type": "code",
   "execution_count": 57,
   "metadata": {},
   "outputs": [],
   "source": [
    "death_causes = pd.read_csv('/home/krk386/pubg/data/death_cause.csv', header=None)"
   ]
  },
  {
   "cell_type": "code",
   "execution_count": 58,
   "metadata": {},
   "outputs": [],
   "source": [
    "death_causes = death_causes.sort_values(by=2, ascending=False)"
   ]
  },
  {
   "cell_type": "code",
   "execution_count": 59,
   "metadata": {},
   "outputs": [],
   "source": [
    "death_causes = death_causes.head(10)"
   ]
  },
  {
   "cell_type": "markdown",
   "metadata": {},
   "source": [
    "## Average number of deaths for a given cause in a game"
   ]
  },
  {
   "cell_type": "code",
   "execution_count": 75,
   "metadata": {},
   "outputs": [
    {
     "data": {
      "text/plain": [
       "Text(17.2,0.5,'average deaths per game')"
      ]
     },
     "execution_count": 75,
     "metadata": {},
     "output_type": "execute_result"
    },
    {
     "data": {
      "image/png": "[encoded data removed]",
      "text/plain": [
       "<Figure size 432x288 with 1 Axes>"
      ]
     },
     "metadata": {
      "needs_background": "light"
     },
     "output_type": "display_data"
    }
   ],
   "source": [
    "ax = death_causes.plot.bar(x=0, y=2, rot=70)\n",
    "ax.set_xlabel(\"cause of death\")\n",
    "plot.set_ylabel(\"average deaths per game\")"
   ]
  },
  {
   "cell_type": "markdown",
   "metadata": {},
   "source": [
    "# Kills and team placement"
   ]
  },
  {
   "cell_type": "code",
   "execution_count": 61,
   "metadata": {},
   "outputs": [
    {
     "data": {
      "text/plain": [
       "Row(date='2017-12-11T22:02:39+0000', game_size='24', match_id='2U4GBNA0YmnmvI29GR080nJ5U4oZyrJ2kJqz7BeQrwDdx68BbncOZ_5DnysRn2Ca', match_mode='tpp', party_size='4', player_assists='3', player_dbno='6', player_dist_ride='6717.846', player_dist_walk='2822.9846199999997', player_dmg='1116', player_kills='9', player_name='Toronto_Edision', player_survive_time='1767.0870000000002', team_id='3', team_placement='1')"
      ]
     },
     "execution_count": 61,
     "metadata": {},
     "output_type": "execute_result"
    }
   ],
   "source": [
    "kills = aggregate.filter(aggregate.party_size == \"4\")#kills_quad\n",
    "kills.head()"
   ]
  },
  {
   "cell_type": "code",
   "execution_count": 62,
   "metadata": {},
   "outputs": [],
   "source": [
    "# rank_and_kills = kills_solo[['team_placement', 'player_kills']]\n",
    "# plot = rank_and_kills.plot.scatter(x='team_placement', y='player_kills', color='green')\n",
    "# plot.set_xlabel(\"rank\")\n",
    "# plot.set_ylabel(\"kills\")\n",
    "# plot.grid(color='black', axis=['x', 'y'], linestyle='solid')\n",
    "rank_and_kills = kills.select(\"team_placement\", \"player_kills\")\n",
    "rank_and_kills = rank_and_kills.withColumn(\"team_placement\", rank_and_kills[\"team_placement\"].cast(IntegerType()))\n",
    "rank_and_kills = rank_and_kills.withColumn(\"player_kills\", rank_and_kills[\"player_kills\"].cast(IntegerType()))"
   ]
  },
  {
   "cell_type": "code",
   "execution_count": 63,
   "metadata": {},
   "outputs": [
    {
     "name": "stdout",
     "output_type": "stream",
     "text": [
      "root\n",
      " |-- team_placement: integer (nullable = true)\n",
      " |-- player_kills: integer (nullable = true)\n",
      "\n"
     ]
    }
   ],
   "source": [
    "rank_and_kills.printSchema()"
   ]
  },
  {
   "cell_type": "code",
   "execution_count": 64,
   "metadata": {},
   "outputs": [],
   "source": [
    "rank_and_kills.write.csv(\"/user/krk386/pubg/rank_and_kills\", header=False)"
   ]
  },
  {
   "cell_type": "code",
   "execution_count": 65,
   "metadata": {},
   "outputs": [],
   "source": [
    "rank_and_kills_pd = pd.read_csv('/home/krk386/pubg/data/rank_kills.csv', header=None)"
   ]
  },
  {
   "cell_type": "code",
   "execution_count": 68,
   "metadata": {},
   "outputs": [],
   "source": [
    "rank_and_kills_pd = rank_and_kills_pd.rename(index=str, columns={0: \"team_placement\", 1: \"player_kills\"})"
   ]
  },
  {
   "cell_type": "markdown",
   "metadata": {},
   "source": [
    "## A plot of kills vs rank in a game"
   ]
  },
  {
   "cell_type": "code",
   "execution_count": 71,
   "metadata": {},
   "outputs": [
    {
     "data": {
      "image/png": "[encoded data removed]",
      "text/plain": [
       "<Figure size 432x288 with 1 Axes>"
      ]
     },
     "metadata": {
      "needs_background": "light"
     },
     "output_type": "display_data"
    }
   ],
   "source": [
    "plot = rank_and_kills_pd.plot.scatter(x='team_placement', y='player_kills', color='green')\n",
    "plot.set_xlabel(\"rank\")\n",
    "plot.set_ylabel(\"kills\")\n",
    "plot.grid(color='black', axis=['x', 'y'], linestyle='solid')"
   ]
  },
  {
   "cell_type": "markdown",
   "metadata": {},
   "source": [
    "## Average rank based on kills"
   ]
  },
  {
   "cell_type": "code",
   "execution_count": 72,
   "metadata": {},
   "outputs": [
    {
     "name": "stdout",
     "output_type": "stream",
     "text": [
      "+------------+-------------------+\n",
      "|player_kills|avg(team_placement)|\n",
      "+------------+-------------------+\n",
      "|          71|                1.0|\n",
      "|          62|                1.0|\n",
      "|          61|                1.0|\n",
      "|          55|                1.0|\n",
      "|          54|                1.0|\n",
      "|          52|                1.0|\n",
      "|          51|                1.0|\n",
      "|          50|                1.0|\n",
      "|          49|                1.5|\n",
      "|          48|                1.0|\n",
      "|          47|                1.0|\n",
      "|          46|  4.333333333333333|\n",
      "|          45|                1.0|\n",
      "|          44|                1.0|\n",
      "|          43|                1.0|\n",
      "|          42|                1.0|\n",
      "|          41|                1.0|\n",
      "|          40| 1.0769230769230769|\n",
      "|          39| 1.2666666666666666|\n",
      "|          38|             1.4375|\n",
      "+------------+-------------------+\n",
      "only showing top 20 rows\n",
      "\n"
     ]
    }
   ],
   "source": [
    "rank_average_kills = rank_and_kills.groupBy(\"player_kills\").agg(mean(\"team_placement\"))\n",
    "rank_average_kills = rank_average_kills.sort(col(\"player_kills\").desc()) # avg(team_placement)\n",
    "rank_average_kills.show()"
   ]
  },
  {
   "cell_type": "code",
   "execution_count": 73,
   "metadata": {},
   "outputs": [
    {
     "data": {
      "text/plain": [
       "Row(player_kills=71, avg(team_placement)=1.0)"
      ]
     },
     "execution_count": 73,
     "metadata": {},
     "output_type": "execute_result"
    }
   ],
   "source": [
    "rank_average_kills.head()"
   ]
  },
  {
   "cell_type": "markdown",
   "metadata": {},
   "source": [
    "### Winner number of kills\n",
    "\n",
    "the number of kills show us an interesting pattern for quad and solo teams.\n",
    "for quad teams the number of winners with zero kills are extremely high. So you can come first without making any kills"
   ]
  },
  {
   "cell_type": "code",
   "execution_count": 78,
   "metadata": {},
   "outputs": [],
   "source": [
    "winners = rank_and_kills.filter(rank_and_kills.team_placement == 1)\n",
    "first_place_kills = winners.select('player_kills')\n",
    "first_place_kills_pd = first_place_kills.toPandas()# rank_and_kills_pd.loc[rank_and_kills_pd['team_placement'] == 1]"
   ]
  },
  {
   "cell_type": "code",
   "execution_count": 79,
   "metadata": {},
   "outputs": [
    {
     "data": {
      "image/png": "[encoded data removed]",
      "text/plain": [
       "<Figure size 432x288 with 1 Axes>"
      ]
     },
     "metadata": {
      "needs_background": "light"
     },
     "output_type": "display_data"
    }
   ],
   "source": [
    "my_hist = first_place_kills_pd.plot.hist(bins=25, range=(0,25), color='gold')\n",
    "my_hist.set_xlabel(\"kills\")\n",
    "my_hist.grid(color='black', axis='x', linestyle='solid')"
   ]
  },
  {
   "cell_type": "markdown",
   "metadata": {},
   "source": [
    "# Kill distance analysis"
   ]
  },
  {
   "cell_type": "code",
   "execution_count": null,
   "metadata": {},
   "outputs": [],
   "source": [
    "# deaths_df.createOrReplaceTempView(\"deaths\") \n",
    "# spark.sql(\"select * from deaths where (victim_position_x != 0 and victim_position_y != 0) and (killer_position_x != 0 and killer_position_y )\")"
   ]
  },
  {
   "cell_type": "code",
   "execution_count": 80,
   "metadata": {},
   "outputs": [],
   "source": [
    "# print(deaths_df.count())\n",
    "deaths_df_filtered = deaths_df.filter(((deaths_df.victim_position_x != 0) & (deaths_df.victim_position_y != 0)) & \\\n",
    "                    ((deaths_df.killer_position_x != 0) & (deaths_df.killer_position_y != 0)) & (deaths_df.map == \"ERANGEL\"))\n",
    "# deaths_df_filtered.count()"
   ]
  },
  {
   "cell_type": "code",
   "execution_count": 81,
   "metadata": {},
   "outputs": [],
   "source": [
    "def getDistance(positions):\n",
    "    vx = positions[0]\n",
    "    vy = positions[1]\n",
    "    kx = positions[2]\n",
    "    ky = positions[3]\n",
    "    return ((vx-kx)**2 + (vy-ky)**2)**(0.5)\n",
    "getDistance_UDF = udf(getDistance, DoubleType())"
   ]
  },
  {
   "cell_type": "code",
   "execution_count": 82,
   "metadata": {},
   "outputs": [],
   "source": [
    "# getDistance([1,1,2,2])\n",
    "deaths_df_filtered = deaths_df_filtered.select(\"killed_by\",\"victim_position_x\",\"victim_position_y\",\"killer_position_x\",\"killer_position_y\")"
   ]
  },
  {
   "cell_type": "code",
   "execution_count": 83,
   "metadata": {},
   "outputs": [],
   "source": [
    "deaths_df_dist = deaths_df_filtered.withColumn(\"distance\", getDistance_UDF(array(\"victim_position_x\",\"victim_position_y\",\"killer_position_x\",\"killer_position_y\")))\n",
    "deaths_df_dist = deaths_df_dist.withColumn(\"log_distance\", log(\"distance\"))\n",
    "# deaths_df_dist.count()"
   ]
  },
  {
   "cell_type": "code",
   "execution_count": 85,
   "metadata": {},
   "outputs": [
    {
     "name": "stdout",
     "output_type": "stream",
     "text": [
      "root\n",
      " |-- killed_by: string (nullable = true)\n",
      " |-- avg(distance): double (nullable = true)\n",
      "\n"
     ]
    }
   ],
   "source": [
    "# deaths_df_dist.where(deaths_df_dist.killed_by == \"Punch\").sort(col(\"distance\")).show()\n",
    "# deaths_df_dist.printSchema()\n",
    "weapon_avg_distance = deaths_df_dist.groupBy(\"killed_by\").mean(\"distance\") #.agg(mean(\"distance\")) # .agg(mean(\"log_distance\"))\n",
    "weapon_avg_distance.printSchema()"
   ]
  },
  {
   "cell_type": "code",
   "execution_count": 86,
   "metadata": {},
   "outputs": [],
   "source": [
    "# deaths_df_dist.where(deaths_df_dist.killed_by == \"Punch\").sort(col(\"distance\")).show()\n",
    "# deaths_df_dist.printSchema()\n",
    "weapon_avg_distance = deaths_df_dist.groupBy(\"killed_by\").mean(\"distance\") #.agg(mean(\"distance\")) # .agg(mean(\"log_distance\"))\n",
    "# weapon_avg_distance.printSchema()\n",
    "weapon_avg_distance = weapon_avg_distance.sort(col(\"avg(distance)\")) # .sort(col(\"avg(log_distance)\").desc())\n",
    "# weapon_avg_distance.show()"
   ]
  },
  {
   "cell_type": "code",
   "execution_count": 87,
   "metadata": {},
   "outputs": [],
   "source": [
    "kill_distance_pd = weapon_avg_distance.toPandas()"
   ]
  },
  {
   "cell_type": "code",
   "execution_count": 91,
   "metadata": {},
   "outputs": [],
   "source": [
    "kill_distance_pd = kill_distance_pd.tail(10)"
   ]
  },
  {
   "cell_type": "markdown",
   "metadata": {},
   "source": [
    "## The average kill distance for a given weapon"
   ]
  },
  {
   "cell_type": "code",
   "execution_count": 92,
   "metadata": {},
   "outputs": [
    {
     "data": {
      "image/png": "[encoded data removed]",
      "text/plain": [
       "<Figure size 432x288 with 1 Axes>"
      ]
     },
     "metadata": {
      "needs_background": "light"
     },
     "output_type": "display_data"
    }
   ],
   "source": [
    "dist_plot = kill_distance_pd.plot.bar(x='killed_by', y='avg(distance)', rot=90)\n",
    "my_hist.set_xlabel(\"kills\")\n",
    "my_hist.grid(color='black', axis='x', linestyle='solid')"
   ]
  }
 ],
 "metadata": {
  "kernelspec": {
   "display_name": "Python 3",
   "language": "python",
   "name": "python3"
  },
  "language_info": {
   "codemirror_mode": {
    "name": "ipython",
    "version": 3
   },
   "file_extension": ".py",
   "mimetype": "text/x-python",
   "name": "python",
   "nbconvert_exporter": "python",
   "pygments_lexer": "ipython3",
   "version": "3.7.0"
  }
 },
 "nbformat": 4,
 "nbformat_minor": 2
}
